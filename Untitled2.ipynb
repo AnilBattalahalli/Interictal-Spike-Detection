{
 "cells": [
  {
   "cell_type": "code",
   "execution_count": 23,
   "metadata": {},
   "outputs": [],
   "source": [
    "%matplotlib inline\n",
    "import numpy as np\n",
    "import random\n",
    "import matplotlib.pyplot as plt"
   ]
  },
  {
   "cell_type": "code",
   "execution_count": 76,
   "metadata": {},
   "outputs": [],
   "source": [
    "def getMontage():\n",
    "        time=np.linspace(25,70)\n",
    "        offset=[0.452,0.361,0.473,0.3532,0.6923,0.355]\n",
    "        amplitude=np.linspace(25,70)\n",
    "        sign=[-1,1]\n",
    "        period=random.choice(time)\n",
    "        os=random.choice(offset)\n",
    "        amp=random.choice(amplitude)\n",
    "        s=random.choice(sign)\n",
    "        sinsamples=int(256*period*0.001)\n",
    "        x = np.linspace(-np.pi, np.pi, sinsamples)\n",
    "        k=np.sin(x)\n",
    "        k +=os\n",
    "        noise = np.random.normal(0,1,sinsamples)\n",
    "        k = np.add(k,0.08*noise)\n",
    "        k *=amp*0.0000005\n",
    "        noise = np.random.normal(0,0.5,sinsamples)\n",
    "        k *=s\n",
    "        u = np.argmax(k)\n",
    "        return k,u"
   ]
  },
  {
   "cell_type": "code",
   "execution_count": 78,
   "metadata": {},
   "outputs": [
    {
     "name": "stdout",
     "output_type": "stream",
     "text": [
      "9\n"
     ]
    },
    {
     "data": {
      "text/plain": [
       "[<matplotlib.lines.Line2D at 0x7f6b40fb7be0>]"
      ]
     },
     "execution_count": 78,
     "metadata": {},
     "output_type": "execute_result"
    },
    {
     "data": {
      "image/png": "[encoded data removed]",
      "text/plain": [
       "<matplotlib.figure.Figure at 0x7f6b4103ccc0>"
      ]
     },
     "metadata": {},
     "output_type": "display_data"
    }
   ],
   "source": [
    "a,b = getMontage()\n",
    "print(b)\n",
    "plt.plot(a)"
   ]
  },
  {
   "cell_type": "code",
   "execution_count": 113,
   "metadata": {},
   "outputs": [
    {
     "name": "stdout",
     "output_type": "stream",
     "text": [
      "2\n",
      "7\n"
     ]
    }
   ],
   "source": [
    "from scipy.signal import argrelextrema\n",
    "# for local maxima\n",
    "print(argrelextrema(a, np.greater)[0][0])\n",
    "\n",
    "# for local minima\n",
    "print(argrelextrema(a, np.less)[0][0])"
   ]
  }
 ],
 "metadata": {
  "kernelspec": {
   "display_name": "Python 3",
   "language": "python",
   "name": "python3"
  },
  "language_info": {
   "codemirror_mode": {
    "name": "ipython",
    "version": 3
   },
   "file_extension": ".py",
   "mimetype": "text/x-python",
   "name": "python",
   "nbconvert_exporter": "python",
   "pygments_lexer": "ipython3",
   "version": "3.6.5"
  }
 },
 "nbformat": 4,
 "nbformat_minor": 2
}
