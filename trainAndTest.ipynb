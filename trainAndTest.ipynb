{
 "cells": [
  {
   "cell_type": "code",
   "execution_count": 1,
   "metadata": {
    "scrolled": true
   },
   "outputs": [
    {
     "name": "stderr",
     "output_type": "stream",
     "text": [
      "Using TensorFlow backend.\n"
     ]
    },
    {
     "ename": "ModuleNotFoundError",
     "evalue": "No module named 'sklearn'",
     "output_type": "error",
     "traceback": [
      "\u001b[0;31m--------------------------------------------------------------------\u001b[0m",
      "\u001b[0;31mModuleNotFoundError\u001b[0m                Traceback (most recent call last)",
      "\u001b[0;32m<ipython-input-1-60db6591ee89>\u001b[0m in \u001b[0;36m<module>\u001b[0;34m()\u001b[0m\n\u001b[1;32m     14\u001b[0m \u001b[0mX\u001b[0m\u001b[0;34m.\u001b[0m\u001b[0mshape\u001b[0m\u001b[0;34m\u001b[0m\u001b[0m\n\u001b[1;32m     15\u001b[0m \u001b[0;34m\u001b[0m\u001b[0m\n\u001b[0;32m---> 16\u001b[0;31m \u001b[0;32mfrom\u001b[0m \u001b[0msklearn\u001b[0m\u001b[0;34m.\u001b[0m\u001b[0mmodel_selection\u001b[0m \u001b[0;32mimport\u001b[0m \u001b[0mtrain_test_split\u001b[0m\u001b[0;34m\u001b[0m\u001b[0m\n\u001b[0m\u001b[1;32m     17\u001b[0m \u001b[0;34m\u001b[0m\u001b[0m\n\u001b[1;32m     18\u001b[0m X_train, X_test, y_train, y_test = train_test_split(X, Y ,\n",
      "\u001b[0;31mModuleNotFoundError\u001b[0m: No module named 'sklearn'"
     ]
    }
   ],
   "source": [
    "import keras\n",
    "import matplotlib.pyplot as plt\n",
    "\n",
    "import numpy as np\n",
    "\n",
    "import scipy.io\n",
    "X=np.load('input.npy')\n",
    "Y=np.load('output.npy')\n",
    "\n",
    "for m in range (0,len(X)):\n",
    "    l=max(X[m])\n",
    "    X[m] /=l\n",
    "\n",
    "X.shape\n",
    "\n",
    "from sklearn.model_selection import train_test_split\n",
    "\n",
    "X_train, X_test, y_train, y_test = train_test_split(X, Y ,\n",
    "                                                    test_size=0.3,\n",
    "                                                    random_state=42)\n",
    "\n",
    "from keras.models import Sequential\n",
    "from keras.layers import Dense\n",
    "from keras.optimizers import SGD, Adam\n",
    "\n",
    "#model\n",
    "model = Sequential()\n",
    "model.add(Dense(64, input_dim=90, activation='relu'))\n",
    "model.add(Dense(32, activation='relu'))\n",
    "model.add(Dense(1, activation='sigmoid'))\n",
    "model.compile(Adam(lr=0.001), 'binary_crossentropy', metrics=['accuracy'])"
   ]
  },
  {
   "cell_type": "code",
   "execution_count": 2,
   "metadata": {
    "scrolled": true
   },
   "outputs": [
    {
     "name": "stdout",
     "output_type": "stream",
     "text": [
      "Epoch 1/100\n",
      "636/636 [==============================] - 0s 293us/step - loss: 0.4890 - acc: 0.7925\n",
      "Epoch 2/100\n",
      "636/636 [==============================] - 0s 87us/step - loss: 0.2591 - acc: 0.9638\n",
      "Epoch 3/100\n",
      "636/636 [==============================] - 0s 88us/step - loss: 0.1879 - acc: 0.9638\n",
      "Epoch 4/100\n",
      "636/636 [==============================] - 0s 72us/step - loss: 0.1526 - acc: 0.9654\n",
      "Epoch 5/100\n",
      "636/636 [==============================] - 0s 84us/step - loss: 0.1355 - acc: 0.9638\n",
      "Epoch 6/100\n",
      "636/636 [==============================] - 0s 78us/step - loss: 0.1229 - acc: 0.9654\n",
      "Epoch 7/100\n",
      "636/636 [==============================] - 0s 79us/step - loss: 0.1137 - acc: 0.9654\n",
      "Epoch 8/100\n",
      "636/636 [==============================] - 0s 80us/step - loss: 0.1050 - acc: 0.9686\n",
      "Epoch 9/100\n",
      "636/636 [==============================] - 0s 64us/step - loss: 0.1054 - acc: 0.9701\n",
      "Epoch 10/100\n",
      "636/636 [==============================] - 0s 83us/step - loss: 0.1266 - acc: 0.9638\n",
      "Epoch 11/100\n",
      "636/636 [==============================] - 0s 103us/step - loss: 0.1223 - acc: 0.9654\n",
      "Epoch 12/100\n",
      "636/636 [==============================] - 0s 106us/step - loss: 0.1160 - acc: 0.9670\n",
      "Epoch 13/100\n",
      "636/636 [==============================] - 0s 128us/step - loss: 0.0883 - acc: 0.9686\n",
      "Epoch 14/100\n",
      "636/636 [==============================] - 0s 79us/step - loss: 0.0811 - acc: 0.9717\n",
      "Epoch 15/100\n",
      "636/636 [==============================] - 0s 119us/step - loss: 0.0769 - acc: 0.9717\n",
      "Epoch 16/100\n",
      "636/636 [==============================] - 0s 101us/step - loss: 0.0729 - acc: 0.9733\n",
      "Epoch 17/100\n",
      "636/636 [==============================] - 0s 92us/step - loss: 0.0697 - acc: 0.9764\n",
      "Epoch 18/100\n",
      "636/636 [==============================] - 0s 75us/step - loss: 0.0664 - acc: 0.9764\n",
      "Epoch 19/100\n",
      "636/636 [==============================] - 0s 110us/step - loss: 0.0628 - acc: 0.9764\n",
      "Epoch 20/100\n",
      "636/636 [==============================] - 0s 117us/step - loss: 0.0599 - acc: 0.9780\n",
      "Epoch 21/100\n",
      "636/636 [==============================] - 0s 108us/step - loss: 0.0566 - acc: 0.9780\n",
      "Epoch 22/100\n",
      "636/636 [==============================] - 0s 108us/step - loss: 0.0543 - acc: 0.9796\n",
      "Epoch 23/100\n",
      "636/636 [==============================] - 0s 113us/step - loss: 0.0514 - acc: 0.9811\n",
      "Epoch 24/100\n",
      "636/636 [==============================] - 0s 110us/step - loss: 0.0491 - acc: 0.9827\n",
      "Epoch 25/100\n",
      "636/636 [==============================] - 0s 112us/step - loss: 0.0459 - acc: 0.9827\n",
      "Epoch 26/100\n",
      "636/636 [==============================] - 0s 144us/step - loss: 0.0435 - acc: 0.9827\n",
      "Epoch 27/100\n",
      "636/636 [==============================] - 0s 83us/step - loss: 0.0412 - acc: 0.9827\n",
      "Epoch 28/100\n",
      "636/636 [==============================] - 0s 95us/step - loss: 0.0386 - acc: 0.9827\n",
      "Epoch 29/100\n",
      "636/636 [==============================] - 0s 84us/step - loss: 0.0365 - acc: 0.9874\n",
      "Epoch 30/100\n",
      "636/636 [==============================] - 0s 94us/step - loss: 0.0344 - acc: 0.9874\n",
      "Epoch 31/100\n",
      "636/636 [==============================] - 0s 80us/step - loss: 0.0327 - acc: 0.9874\n",
      "Epoch 32/100\n",
      "636/636 [==============================] - 0s 110us/step - loss: 0.0309 - acc: 0.9874\n",
      "Epoch 33/100\n",
      "636/636 [==============================] - 0s 95us/step - loss: 0.0289 - acc: 0.9874\n",
      "Epoch 34/100\n",
      "636/636 [==============================] - 0s 87us/step - loss: 0.0268 - acc: 0.9906\n",
      "Epoch 35/100\n",
      "636/636 [==============================] - 0s 66us/step - loss: 0.0253 - acc: 0.9906\n",
      "Epoch 36/100\n",
      "636/636 [==============================] - 0s 97us/step - loss: 0.0239 - acc: 0.9906\n",
      "Epoch 37/100\n",
      "636/636 [==============================] - 0s 111us/step - loss: 0.0226 - acc: 0.9921\n",
      "Epoch 38/100\n",
      "636/636 [==============================] - 0s 94us/step - loss: 0.0208 - acc: 0.9921\n",
      "Epoch 39/100\n",
      "636/636 [==============================] - 0s 73us/step - loss: 0.0191 - acc: 0.9953\n",
      "Epoch 40/100\n",
      "636/636 [==============================] - 0s 98us/step - loss: 0.0177 - acc: 0.9969\n",
      "Epoch 41/100\n",
      "636/636 [==============================] - 0s 88us/step - loss: 0.0166 - acc: 0.9969\n",
      "Epoch 42/100\n",
      "636/636 [==============================] - 0s 98us/step - loss: 0.0150 - acc: 0.9984\n",
      "Epoch 43/100\n",
      "636/636 [==============================] - 0s 76us/step - loss: 0.0139 - acc: 0.9984\n",
      "Epoch 44/100\n",
      "636/636 [==============================] - 0s 99us/step - loss: 0.0125 - acc: 1.0000\n",
      "Epoch 45/100\n",
      "636/636 [==============================] - 0s 75us/step - loss: 0.0118 - acc: 0.9984\n",
      "Epoch 46/100\n",
      "636/636 [==============================] - 0s 81us/step - loss: 0.0110 - acc: 0.9984\n",
      "Epoch 47/100\n",
      "636/636 [==============================] - 0s 78us/step - loss: 0.0104 - acc: 1.0000\n",
      "Epoch 48/100\n",
      "636/636 [==============================] - 0s 106us/step - loss: 0.0095 - acc: 1.0000\n",
      "Epoch 49/100\n",
      "636/636 [==============================] - 0s 115us/step - loss: 0.0086 - acc: 1.0000\n",
      "Epoch 50/100\n",
      "636/636 [==============================] - 0s 107us/step - loss: 0.0084 - acc: 1.0000\n",
      "Epoch 51/100\n",
      "636/636 [==============================] - 0s 78us/step - loss: 0.0077 - acc: 1.0000\n",
      "Epoch 52/100\n",
      "636/636 [==============================] - 0s 78us/step - loss: 0.0070 - acc: 1.0000\n",
      "Epoch 53/100\n",
      "636/636 [==============================] - 0s 84us/step - loss: 0.0062 - acc: 1.0000\n",
      "Epoch 54/100\n",
      "636/636 [==============================] - 0s 99us/step - loss: 0.0059 - acc: 1.0000\n",
      "Epoch 55/100\n",
      "636/636 [==============================] - 0s 82us/step - loss: 0.0054 - acc: 1.0000\n",
      "Epoch 56/100\n",
      "636/636 [==============================] - 0s 90us/step - loss: 0.0051 - acc: 1.0000\n",
      "Epoch 57/100\n",
      "636/636 [==============================] - 0s 70us/step - loss: 0.0047 - acc: 1.0000\n",
      "Epoch 58/100\n",
      "636/636 [==============================] - 0s 57us/step - loss: 0.0044 - acc: 1.0000\n",
      "Epoch 59/100\n",
      "636/636 [==============================] - 0s 79us/step - loss: 0.0041 - acc: 1.0000\n",
      "Epoch 60/100\n",
      "636/636 [==============================] - 0s 77us/step - loss: 0.0038 - acc: 1.0000\n",
      "Epoch 61/100\n",
      "636/636 [==============================] - 0s 108us/step - loss: 0.0036 - acc: 1.0000\n",
      "Epoch 62/100\n",
      "636/636 [==============================] - 0s 96us/step - loss: 0.0034 - acc: 1.0000\n",
      "Epoch 63/100\n",
      "636/636 [==============================] - 0s 73us/step - loss: 0.0032 - acc: 1.0000\n",
      "Epoch 64/100\n",
      "636/636 [==============================] - 0s 106us/step - loss: 0.0029 - acc: 1.0000\n",
      "Epoch 65/100\n",
      "636/636 [==============================] - 0s 81us/step - loss: 0.0027 - acc: 1.0000\n",
      "Epoch 66/100\n",
      "636/636 [==============================] - 0s 99us/step - loss: 0.0026 - acc: 1.0000\n",
      "Epoch 67/100\n",
      "636/636 [==============================] - 0s 85us/step - loss: 0.0024 - acc: 1.0000\n",
      "Epoch 68/100\n",
      "636/636 [==============================] - 0s 69us/step - loss: 0.0023 - acc: 1.0000\n",
      "Epoch 69/100\n",
      "636/636 [==============================] - 0s 80us/step - loss: 0.0022 - acc: 1.0000\n",
      "Epoch 70/100\n",
      "636/636 [==============================] - 0s 90us/step - loss: 0.0021 - acc: 1.0000\n",
      "Epoch 71/100\n",
      "636/636 [==============================] - 0s 100us/step - loss: 0.0019 - acc: 1.0000\n",
      "Epoch 72/100\n",
      "636/636 [==============================] - 0s 75us/step - loss: 0.0018 - acc: 1.0000\n",
      "Epoch 73/100\n",
      "636/636 [==============================] - 0s 80us/step - loss: 0.0017 - acc: 1.0000\n",
      "Epoch 74/100\n",
      "636/636 [==============================] - 0s 77us/step - loss: 0.0016 - acc: 1.0000\n",
      "Epoch 75/100\n",
      "636/636 [==============================] - 0s 90us/step - loss: 0.0016 - acc: 1.0000\n",
      "Epoch 76/100\n",
      "636/636 [==============================] - 0s 78us/step - loss: 0.0015 - acc: 1.0000\n",
      "Epoch 77/100\n",
      "636/636 [==============================] - 0s 75us/step - loss: 0.0014 - acc: 1.0000\n",
      "Epoch 78/100\n",
      "636/636 [==============================] - 0s 82us/step - loss: 0.0014 - acc: 1.0000\n",
      "Epoch 79/100\n",
      "636/636 [==============================] - 0s 103us/step - loss: 0.0013 - acc: 1.0000\n",
      "Epoch 80/100\n",
      "636/636 [==============================] - 0s 92us/step - loss: 0.0012 - acc: 1.0000\n",
      "Epoch 81/100\n",
      "636/636 [==============================] - 0s 78us/step - loss: 0.0012 - acc: 1.0000\n",
      "Epoch 82/100\n",
      "636/636 [==============================] - 0s 89us/step - loss: 0.0011 - acc: 1.0000\n",
      "Epoch 83/100\n",
      "636/636 [==============================] - 0s 78us/step - loss: 0.0011 - acc: 1.0000\n",
      "Epoch 84/100\n",
      "636/636 [==============================] - 0s 89us/step - loss: 0.0011 - acc: 1.0000\n",
      "Epoch 85/100\n",
      "636/636 [==============================] - 0s 77us/step - loss: 0.0010 - acc: 1.0000\n",
      "Epoch 86/100\n",
      "636/636 [==============================] - 0s 66us/step - loss: 9.6171e-04 - acc: 1.0000\n",
      "Epoch 87/100\n",
      "636/636 [==============================] - 0s 74us/step - loss: 9.2115e-04 - acc: 1.0000\n",
      "Epoch 88/100\n",
      "636/636 [==============================] - 0s 72us/step - loss: 8.9377e-04 - acc: 1.0000\n",
      "Epoch 89/100\n",
      "636/636 [==============================] - 0s 91us/step - loss: 8.6024e-04 - acc: 1.0000\n",
      "Epoch 90/100\n",
      "636/636 [==============================] - 0s 62us/step - loss: 8.2270e-04 - acc: 1.0000\n",
      "Epoch 91/100\n",
      "636/636 [==============================] - 0s 80us/step - loss: 7.9508e-04 - acc: 1.0000\n",
      "Epoch 92/100\n",
      "636/636 [==============================] - 0s 75us/step - loss: 7.6004e-04 - acc: 1.0000\n",
      "Epoch 93/100\n",
      "636/636 [==============================] - 0s 76us/step - loss: 7.4023e-04 - acc: 1.0000\n",
      "Epoch 94/100\n",
      "636/636 [==============================] - 0s 76us/step - loss: 7.1778e-04 - acc: 1.0000\n",
      "Epoch 95/100\n",
      "636/636 [==============================] - 0s 76us/step - loss: 6.8883e-04 - acc: 1.0000\n",
      "Epoch 96/100\n",
      "636/636 [==============================] - 0s 72us/step - loss: 6.6397e-04 - acc: 1.0000\n",
      "Epoch 97/100\n",
      "636/636 [==============================] - 0s 73us/step - loss: 6.4314e-04 - acc: 1.0000\n",
      "Epoch 98/100\n",
      "636/636 [==============================] - 0s 70us/step - loss: 6.2456e-04 - acc: 1.0000\n",
      "Epoch 99/100\n",
      "636/636 [==============================] - 0s 63us/step - loss: 6.0229e-04 - acc: 1.0000\n",
      "Epoch 100/100\n",
      "636/636 [==============================] - 0s 64us/step - loss: 5.8005e-04 - acc: 1.0000\n"
     ]
    }
   ],
   "source": [
    "h=model.fit(X_train, y_train, epochs=100)\n",
    "from sklearn.metrics import accuracy_score\n",
    "Y_pred = model.predict_classes(X)"
   ]
  },
  {
   "cell_type": "code",
   "execution_count": 3,
   "metadata": {
    "scrolled": false
   },
   "outputs": [
    {
     "data": {
      "image/png": "[encoded data removed]",
      "text/plain": [
       "<matplotlib.figure.Figure at 0x7f8ee859e1d0>"
      ]
     },
     "metadata": {},
     "output_type": "display_data"
    }
   ],
   "source": [
    "plt.plot(h.history['acc'])\n",
    "plt.title('Accuracy')\n",
    "plt.xlabel('Epochs')\n",
    "plt.show()"
   ]
  },
  {
   "cell_type": "code",
   "execution_count": 4,
   "metadata": {
    "scrolled": false
   },
   "outputs": [
    {
     "name": "stdout",
     "output_type": "stream",
     "text": [
      "The Accuracy score on the train set is:\t0.987\n"
     ]
    }
   ],
   "source": [
    "print(\"The Accuracy score on the train set is:\\t{:0.3f}\".format(accuracy_score(Y, Y_pred)))"
   ]
  },
  {
   "cell_type": "code",
   "execution_count": 5,
   "metadata": {},
   "outputs": [
    {
     "name": "stdout",
     "output_type": "stream",
     "text": [
      "273/273 [==============================] - 0s 94us/step\n"
     ]
    },
    {
     "data": {
      "text/plain": [
       "[0.26361209903621957, 0.95604395604395609]"
      ]
     },
     "execution_count": 5,
     "metadata": {},
     "output_type": "execute_result"
    }
   ],
   "source": [
    "model.evaluate(X_test, y_test)"
   ]
  },
  {
   "cell_type": "code",
   "execution_count": 6,
   "metadata": {},
   "outputs": [
    {
     "data": {
      "text/plain": [
       "0.95604395604395609"
      ]
     },
     "execution_count": 6,
     "metadata": {},
     "output_type": "execute_result"
    }
   ],
   "source": [
    "from sklearn import svm\n",
    "clf = svm.SVC()\n",
    "clf.fit(X_train, y_train) \n",
    "y_pred = clf.predict(X_test)\n",
    "accuracy_score(y_test,y_pred)"
   ]
  }
 ],
 "metadata": {
  "kernelspec": {
   "display_name": "Python 3",
   "language": "python",
   "name": "python3"
  },
  "language_info": {
   "codemirror_mode": {
    "name": "ipython",
    "version": 3
   },
   "file_extension": ".py",
   "mimetype": "text/x-python",
   "name": "python",
   "nbconvert_exporter": "python",
   "pygments_lexer": "ipython3",
   "version": "3.6.5"
  }
 },
 "nbformat": 4,
 "nbformat_minor": 2
}
